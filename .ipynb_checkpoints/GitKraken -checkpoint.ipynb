{
 "cells": [
  {
   "cell_type": "markdown",
   "metadata": {},
   "source": [
    "- **Nombre:** Erick Salazar Hernández\n",
    "- profesion: <font color =blue> **Ingeniría financiera** </font>\n",
    "- Edad: **19 años**\n",
    "- pasatiempo: **Series, hacer ejercicio, escuchar música.**\n",
    "- Educación: **ITESO**\n",
    "\n"
   ]
  },
  {
   "cell_type": "markdown",
   "metadata": {},
   "source": [
    "Foto:\n",
    "    <img src=\"http://i.imgur.com/nHMSad8.jpg\" width=\"150px\" height=\"50px\"  />"
   ]
  },
  {
   "cell_type": "code",
   "execution_count": null,
   "metadata": {},
   "outputs": [],
   "source": []
  }
 ],
 "metadata": {
  "kernelspec": {
   "display_name": "Python 3",
   "language": "python",
   "name": "python3"
  },
  "language_info": {
   "codemirror_mode": {
    "name": "ipython",
    "version": 3
   },
   "file_extension": ".py",
   "mimetype": "text/x-python",
   "name": "python",
   "nbconvert_exporter": "python",
   "pygments_lexer": "ipython3",
   "version": "3.6.5"
  }
 },
 "nbformat": 4,
 "nbformat_minor": 2
}
